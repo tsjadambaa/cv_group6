{
 "cells": [
  {
   "cell_type": "code",
   "execution_count": 76,
   "metadata": {},
   "outputs": [],
   "source": [
    "import matplotlib.pyplot as plt\n",
    "import cv2\n",
    "import os"
   ]
  },
  {
   "cell_type": "code",
   "execution_count": 81,
   "metadata": {
    "collapsed": false,
    "jupyter": {
     "outputs_hidden": false
    }
   },
   "outputs": [],
   "source": [
    "# поиск по ключевым точкам, получить peak coord\n",
    "\n",
    "def matchTemplate(path_img, path_pattern):\n",
    "    \n",
    "    # Load the input images\n",
    "    input_image = cv2.imread(path_img, 0)\n",
    "    pattern_template = cv2.imread(path_pattern, 0)\n",
    "\n",
    "    input_name = path_img[path_img.rfind('/') + 1:]\n",
    "    pattern_name = path_pattern[path_pattern.rfind('/') + 1:]\n",
    "\n",
    "    path = './key_points'\n",
    "    is_exist  = os.path.exists('./key_points')\n",
    "    \n",
    "    if not os.path.exists(path):\n",
    "        os.mkdir(path)\n",
    "        \n",
    "    if not os.path.exists(path + '/input'):\n",
    "        os.mkdir(path + '/input')\n",
    "\n",
    "    if not os.path.exists(path + '/pattern'):\n",
    "        os.mkdir(path + '/pattern')\n",
    "\n",
    "    \n",
    "    \n",
    "    # тут тодлжен быть свой код\n",
    "    # необходимо найти ключевые точки и вывести координаты рамки\n",
    "\n",
    "    \n",
    "    sift = cv2.SIFT_create()\n",
    "    \n",
    "    input_kp = sift.detect(input_image, None)\n",
    "    input_image_kp = cv2.drawKeypoints(input_image, input_kp, input_image)\n",
    "    kp_input_name = 'key_points/input/kp_' + input_name\n",
    "    cv2.imwrite(kp_input_name, input_image_kp)\n",
    "    \n",
    "    pattern_kp = sift.detect(pattern_template,None)\n",
    "    pattern_image_kp = cv2.drawKeypoints(pattern_template, pattern_kp, pattern_template)\n",
    "    kp_pattern_name = 'key_points/pattern/kp_' + pattern_name\n",
    "    cv2.imwrite(kp_pattern_name, pattern_image_kp)\n",
    "\n",
    "    height, width =  input_image.shape\n",
    "    highlight_start = (0, 0)\n",
    "    highlight_end = (0, 0)\n",
    "    #highlight_end = (highlight_start[0] + width, highlight_start[1] + height)\n",
    "    return highlight_start, highlight_end\n"
   ]
  },
  {
   "cell_type": "markdown",
   "metadata": {},
   "source": [
    "# Additional"
   ]
  },
  {
   "cell_type": "code",
   "execution_count": 82,
   "metadata": {
    "collapsed": false,
    "jupyter": {
     "outputs_hidden": false
    }
   },
   "outputs": [],
   "source": [
    "def show(input_image, pattern_template, highlight_start, highlight_end,row):\n",
    "    cv2.rectangle(input_image,(row[\"x1\"],row[\"y1\"]), (row[\"x2\"],row[\"y2\"]),(255,0,0), 2)\n",
    "    cv2.rectangle(input_image, highlight_start, highlight_end, 255, 2)\n",
    "    # Visualize the pattern template and resulting image\n",
    "    fig_instance, axes_arr = plt.subplots(1, 2, figsize=(10, 5))\n",
    "\n",
    "    # Show the pattern template\n",
    "    axes_arr[0].imshow(pattern_template, cmap='gray')\n",
    "    axes_arr[0].set_title('Pattern Template')\n",
    "\n",
    "    # Show the input image with the highlighted match\n",
    "    axes_arr[1].imshow(input_image, cmap='gray')\n",
    "    axes_arr[1].set_title('Pattern Highlighted')\n",
    "\n",
    "    plt.show()"
   ]
  },
  {
   "cell_type": "code",
   "execution_count": 83,
   "metadata": {
    "collapsed": false,
    "jupyter": {
     "outputs_hidden": false
    }
   },
   "outputs": [],
   "source": [
    "# iou\n",
    "\n",
    "def iou(row, highlight_start, highlight_end):\n",
    "    true_points_set = set([])\n",
    "    pred_points_set= set([])\n",
    "\n",
    "    for x in range(row[\"x1\"], row[\"x2\"]):\n",
    "        for y in range(row[\"y1\"], row[\"y2\"]):\n",
    "                true_points_set.add((x,y))\n",
    "\n",
    "        for x in range(highlight_start[0],highlight_end[0]):\n",
    "            for y in range(highlight_start[1], highlight_end[1]):\n",
    "                pred_points_set.add((x,y))\n",
    "    iou_metric = len(true_points_set.intersection(pred_points_set)) / len(true_points_set.union(pred_points_set))\n",
    "    return iou_metric"
   ]
  },
  {
   "cell_type": "markdown",
   "metadata": {},
   "source": [
    "# Output"
   ]
  },
  {
   "cell_type": "code",
   "execution_count": 84,
   "metadata": {
    "collapsed": false,
    "jupyter": {
     "outputs_hidden": false
    }
   },
   "outputs": [
    {
     "name": "stdout",
     "output_type": "stream",
     "text": [
      "key_points/input/kp_1.jpg\n",
      "0.0\n",
      "key_points/input/kp_2.jpg\n",
      "0.0\n",
      "key_points/input/kp_3.jpg\n",
      "0.0\n",
      "key_points/input/kp_4.jpg\n",
      "0.0\n",
      "key_points/input/kp_5.jpg\n",
      "0.0\n",
      "key_points/input/kp_6.jpg\n",
      "0.0\n",
      "key_points/input/kp_7.jpg\n",
      "0.0\n",
      "key_points/input/kp_8.jpg\n",
      "0.0\n",
      "key_points/input/kp_9.jpg\n",
      "0.0\n",
      "key_points/input/kp_10.jpg\n",
      "0.0\n",
      "key_points/input/kp_11.jpg\n",
      "0.0\n",
      "key_points/input/kp_13.jpg\n",
      "0.0\n",
      "key_points/input/kp_14.jpg\n",
      "0.0\n",
      "key_points/input/kp_15.jpg\n",
      "0.0\n",
      "key_points/input/kp_16.jpg\n",
      "0.0\n",
      "key_points/input/kp_17.jpg\n",
      "0.0\n",
      "key_points/input/kp_18.jpg\n",
      "0.0\n",
      "key_points/input/kp_19.jpg\n",
      "0.0\n",
      "key_points/input/kp_20.jpg\n",
      "0.0\n",
      "key_points/input/kp_22.jpg\n",
      "0.0\n",
      "key_points/input/kp_23.jpg\n",
      "0.0\n",
      "key_points/input/kp_24.jpg\n",
      "0.0\n",
      "key_points/input/kp_25.jpg\n",
      "0.0\n",
      "key_points/input/kp_28.jpg\n",
      "0.0\n",
      "key_points/input/kp_29.jpg\n",
      "0.0\n",
      "key_points/input/kp_30.jpg\n",
      "0.0\n",
      "key_points/input/kp_31.jpg\n",
      "0.0\n",
      "key_points/input/kp_32.jpg\n",
      "0.0\n",
      "key_points/input/kp_33.jpg\n",
      "0.0\n",
      "key_points/input/kp_34.jpg\n",
      "0.0\n",
      "key_points/input/kp_35.jpg\n",
      "0.0\n",
      "key_points/input/kp_36.jpg\n",
      "0.0\n",
      "key_points/input/kp_37.jpg\n",
      "0.0\n",
      "key_points/input/kp_38.jpg\n",
      "0.0\n",
      "key_points/input/kp_39.jpg\n",
      "0.0\n",
      "key_points/input/kp_40.jpg\n",
      "0.0\n",
      "iou_mean 0.0\n"
     ]
    }
   ],
   "source": [
    "# загрузка изображений, перебор\n",
    "import statistics\n",
    "from PIL import Image, ImageFilter\n",
    "import numpy as np\n",
    "import pandas as pd\n",
    "dataset = pd.read_csv('dataset/annotation.csv', delimiter=';')\n",
    "dataset.head()\n",
    "iou_array=[]\n",
    "for i in range(0,36):\n",
    "    row = dataset.iloc[i]\n",
    "    highlight_start, highlight_end =matchTemplate(f\"dataset/{row['id']}.jpg\", f\"dataset/pattern/cropped_img_{row['id']}.jpg\")\n",
    "    iou_metric = iou(row,highlight_start,highlight_end)\n",
    "    print(iou_metric)\n",
    "    iou_array.append(iou_metric)\n",
    "\n",
    "iou_mean = statistics.mean(iou_array)\n",
    "print(\"iou_mean\",iou_mean)"
   ]
  },
  {
   "cell_type": "code",
   "execution_count": null,
   "metadata": {
    "collapsed": false,
    "jupyter": {
     "outputs_hidden": false
    }
   },
   "outputs": [],
   "source": []
  },
  {
   "cell_type": "code",
   "execution_count": null,
   "metadata": {},
   "outputs": [],
   "source": []
  }
 ],
 "metadata": {
  "kernelspec": {
   "display_name": "Python 3 (ipykernel)",
   "language": "python",
   "name": "python3"
  },
  "language_info": {
   "codemirror_mode": {
    "name": "ipython",
    "version": 3
   },
   "file_extension": ".py",
   "mimetype": "text/x-python",
   "name": "python",
   "nbconvert_exporter": "python",
   "pygments_lexer": "ipython3",
   "version": "3.11.3"
  }
 },
 "nbformat": 4,
 "nbformat_minor": 4
}
